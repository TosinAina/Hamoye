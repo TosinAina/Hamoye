{
 "cells": [
  {
   "cell_type": "code",
   "execution_count": 1,
   "metadata": {
    "execution": {
     "iopub.execute_input": "2020-09-20T16:56:00.296467Z",
     "iopub.status.busy": "2020-09-20T16:56:00.295624Z",
     "iopub.status.idle": "2020-09-20T16:56:04.863031Z",
     "shell.execute_reply": "2020-09-20T16:56:04.862056Z"
    },
    "id": "BUyMaeUZS_Zr",
    "papermill": {
     "duration": 4.601368,
     "end_time": "2020-09-20T16:56:04.863197",
     "exception": false,
     "start_time": "2020-09-20T16:56:00.261829",
     "status": "completed"
    },
    "tags": []
   },
   "outputs": [],
   "source": [
    "import warnings \n",
    "warnings.filterwarnings('ignore')\n",
    "import matplotlib.pyplot as plt\n",
    "import numpy as np\n",
    "import pandas as pd\n",
    "from tensorflow.keras.models import Sequential\n",
    "from tensorflow.keras.layers import Dense, Flatten, MaxPool2D, BatchNormalization,Dropout\n",
    "from tensorflow.keras.applications import VGG16\n",
    "from tensorflow.keras.optimizers import SGD\n",
    "from tensorflow.keras.preprocessing.image import ImageDataGenerator\n",
    "from tensorflow.keras.callbacks import EarlyStopping,ModelCheckpoint"
   ]
  },
  {
   "cell_type": "code",
   "execution_count": 2,
   "metadata": {
    "execution": {
     "iopub.execute_input": "2020-09-20T16:56:04.923731Z",
     "iopub.status.busy": "2020-09-20T16:56:04.922535Z",
     "iopub.status.idle": "2020-09-20T16:56:05.023006Z",
     "shell.execute_reply": "2020-09-20T16:56:05.021940Z"
    },
    "id": "q0HB7-y1V1kL",
    "papermill": {
     "duration": 0.135002,
     "end_time": "2020-09-20T16:56:05.023135",
     "exception": false,
     "start_time": "2020-09-20T16:56:04.888133",
     "status": "completed"
    },
    "tags": []
   },
   "outputs": [],
   "source": [
    "train = '../input/planets-dataset/planet/planet/train-jpg'\n",
    "test = '../input/planets-dataset/planet/planet/test-jpg'\n",
    "add_test = '../input/planets-dataset/test-jpg-additional/test-jpg-additional'\n",
    "train_df = pd.read_csv('../input/planets-dataset/planet/planet/train_classes.csv')\n",
    "sample_sub = pd.read_csv('../input/planets-dataset/planet/planet/sample_submission.csv')"
   ]
  },
  {
   "cell_type": "code",
   "execution_count": 3,
   "metadata": {
    "execution": {
     "iopub.execute_input": "2020-09-20T16:56:05.098000Z",
     "iopub.status.busy": "2020-09-20T16:56:05.086798Z",
     "iopub.status.idle": "2020-09-20T16:56:05.123342Z",
     "shell.execute_reply": "2020-09-20T16:56:05.122816Z"
    },
    "id": "Fi5ylY-W3nma",
    "papermill": {
     "duration": 0.074874,
     "end_time": "2020-09-20T16:56:05.123455",
     "exception": false,
     "start_time": "2020-09-20T16:56:05.048581",
     "status": "completed"
    },
    "tags": []
   },
   "outputs": [],
   "source": [
    "train_df['image_name'] = train_df['image_name'].apply(lambda x: x+'.jpg')\n",
    "sample_sub['image_name'] = sample_sub['image_name'].apply(lambda x: x+'.jpg')"
   ]
  },
  {
   "cell_type": "code",
   "execution_count": 4,
   "metadata": {
    "execution": {
     "iopub.execute_input": "2020-09-20T16:56:05.309614Z",
     "iopub.status.busy": "2020-09-20T16:56:05.189625Z",
     "iopub.status.idle": "2020-09-20T16:56:05.332955Z",
     "shell.execute_reply": "2020-09-20T16:56:05.332314Z"
    },
    "id": "RE1rdhg8LDM_",
    "papermill": {
     "duration": 0.183276,
     "end_time": "2020-09-20T16:56:05.333072",
     "exception": false,
     "start_time": "2020-09-20T16:56:05.149796",
     "status": "completed"
    },
    "tags": []
   },
   "outputs": [],
   "source": [
    "train_df['tags'] = train_df['tags'].apply(lambda x:x.split(' '))"
   ]
  },
  {
   "cell_type": "code",
   "execution_count": 5,
   "metadata": {
    "execution": {
     "iopub.execute_input": "2020-09-20T16:56:05.407697Z",
     "iopub.status.busy": "2020-09-20T16:56:05.405721Z",
     "iopub.status.idle": "2020-09-20T16:56:05.421223Z",
     "shell.execute_reply": "2020-09-20T16:56:05.422426Z"
    },
    "id": "Xu0k-NTI41S2",
    "outputId": "83f000b6-e963-45ec-8ed2-760af0739fb7",
    "papermill": {
     "duration": 0.064738,
     "end_time": "2020-09-20T16:56:05.422622",
     "exception": false,
     "start_time": "2020-09-20T16:56:05.357884",
     "status": "completed"
    },
    "tags": []
   },
   "outputs": [
    {
     "data": {
      "text/html": [
       "<div>\n",
       "<style scoped>\n",
       "    .dataframe tbody tr th:only-of-type {\n",
       "        vertical-align: middle;\n",
       "    }\n",
       "\n",
       "    .dataframe tbody tr th {\n",
       "        vertical-align: top;\n",
       "    }\n",
       "\n",
       "    .dataframe thead th {\n",
       "        text-align: right;\n",
       "    }\n",
       "</style>\n",
       "<table border=\"1\" class=\"dataframe\">\n",
       "  <thead>\n",
       "    <tr style=\"text-align: right;\">\n",
       "      <th></th>\n",
       "      <th>image_name</th>\n",
       "      <th>tags</th>\n",
       "    </tr>\n",
       "  </thead>\n",
       "  <tbody>\n",
       "    <tr>\n",
       "      <th>0</th>\n",
       "      <td>train_0.jpg</td>\n",
       "      <td>[haze, primary]</td>\n",
       "    </tr>\n",
       "    <tr>\n",
       "      <th>1</th>\n",
       "      <td>train_1.jpg</td>\n",
       "      <td>[agriculture, clear, primary, water]</td>\n",
       "    </tr>\n",
       "    <tr>\n",
       "      <th>2</th>\n",
       "      <td>train_2.jpg</td>\n",
       "      <td>[clear, primary]</td>\n",
       "    </tr>\n",
       "    <tr>\n",
       "      <th>3</th>\n",
       "      <td>train_3.jpg</td>\n",
       "      <td>[clear, primary]</td>\n",
       "    </tr>\n",
       "    <tr>\n",
       "      <th>4</th>\n",
       "      <td>train_4.jpg</td>\n",
       "      <td>[agriculture, clear, habitation, primary, road]</td>\n",
       "    </tr>\n",
       "  </tbody>\n",
       "</table>\n",
       "</div>"
      ],
      "text/plain": [
       "    image_name                                             tags\n",
       "0  train_0.jpg                                  [haze, primary]\n",
       "1  train_1.jpg             [agriculture, clear, primary, water]\n",
       "2  train_2.jpg                                 [clear, primary]\n",
       "3  train_3.jpg                                 [clear, primary]\n",
       "4  train_4.jpg  [agriculture, clear, habitation, primary, road]"
      ]
     },
     "execution_count": 5,
     "metadata": {},
     "output_type": "execute_result"
    }
   ],
   "source": [
    "train_df.head()"
   ]
  },
  {
   "cell_type": "code",
   "execution_count": 6,
   "metadata": {
    "execution": {
     "iopub.execute_input": "2020-09-20T16:56:05.522546Z",
     "iopub.status.busy": "2020-09-20T16:56:05.519486Z",
     "iopub.status.idle": "2020-09-20T16:56:05.523536Z",
     "shell.execute_reply": "2020-09-20T16:56:05.524366Z"
    },
    "id": "39UceK4QyZcR",
    "papermill": {
     "duration": 0.057138,
     "end_time": "2020-09-20T16:56:05.524535",
     "exception": false,
     "start_time": "2020-09-20T16:56:05.467397",
     "status": "completed"
    },
    "tags": []
   },
   "outputs": [],
   "source": [
    "datagen = ImageDataGenerator(rescale=1./255.,validation_split=0.25,horizontal_flip=True)\n",
    "test_datagen = ImageDataGenerator(rescale=1./255.)"
   ]
  },
  {
   "cell_type": "code",
   "execution_count": 7,
   "metadata": {
    "execution": {
     "iopub.execute_input": "2020-09-20T16:56:05.623341Z",
     "iopub.status.busy": "2020-09-20T16:56:05.621414Z",
     "iopub.status.idle": "2020-09-20T16:56:43.010458Z",
     "shell.execute_reply": "2020-09-20T16:56:43.009641Z"
    },
    "id": "zUk39rWByZ-E",
    "outputId": "c37a8792-4550-48cc-d360-8dca91826616",
    "papermill": {
     "duration": 37.438876,
     "end_time": "2020-09-20T16:56:43.010604",
     "exception": false,
     "start_time": "2020-09-20T16:56:05.571728",
     "status": "completed"
    },
    "tags": []
   },
   "outputs": [
    {
     "name": "stdout",
     "output_type": "stream",
     "text": [
      "Found 30360 validated image filenames belonging to 17 classes.\n",
      "Found 10119 validated image filenames belonging to 17 classes.\n",
      "Found 40669 validated image filenames.\n",
      "Found 20522 validated image filenames.\n"
     ]
    }
   ],
   "source": [
    "train_generator = datagen.flow_from_dataframe(\n",
    "    subset='training',\n",
    "    dataframe=train_df,\n",
    "    directory=train,\n",
    "    x_col='image_name',\n",
    "    y_col='tags',\n",
    "    batch_size=64,\n",
    "    seed=42,\n",
    "    target_size=(128,128)   \n",
    ")\n",
    "validation_generator = datagen.flow_from_dataframe(\n",
    "    subset='validation',\n",
    "    dataframe=train_df,\n",
    "    directory=train,\n",
    "    x_col=\"image_name\",\n",
    "    y_col=\"tags\",\n",
    "    batch_size=64,\n",
    "    seed=42,\n",
    "    target_size=(128,128)  \n",
    ")\n",
    "test_generator = test_datagen.flow_from_dataframe(\n",
    "    dataframe=sample_sub[:40669],\n",
    "    directory=test,\n",
    "    x_col='image_name',\n",
    "    seed=42,\n",
    "    batch_size=1,\n",
    "    shuffle=False,\n",
    "    class_mode=None,\n",
    "    target_size=(128,128)  \n",
    ")\n",
    "add_test_generator = test_datagen.flow_from_dataframe(\n",
    "    dataframe=sample_sub[40669:],\n",
    "    directory=add_test,\n",
    "    x_col='image_name',\n",
    "    seed=42,\n",
    "    batch_size=1,\n",
    "    shuffle=False,\n",
    "    class_mode=None,\n",
    "    target_size=(128,128)\n",
    ")"
   ]
  },
  {
   "cell_type": "code",
   "execution_count": 9,
   "metadata": {
    "execution": {
     "iopub.execute_input": "2020-09-20T16:56:43.143629Z",
     "iopub.status.busy": "2020-09-20T16:56:43.142964Z",
     "iopub.status.idle": "2020-09-20T16:56:47.407654Z",
     "shell.execute_reply": "2020-09-20T16:56:47.407003Z"
    },
    "id": "rSDH3O1udyJd",
    "outputId": "e0180405-38e2-4cd0-c7b6-8392d53156ad",
    "papermill": {
     "duration": 4.300074,
     "end_time": "2020-09-20T16:56:47.407777",
     "exception": false,
     "start_time": "2020-09-20T16:56:43.107703",
     "status": "completed"
    },
    "tags": []
   },
   "outputs": [
    {
     "name": "stdout",
     "output_type": "stream",
     "text": [
      "Downloading data from https://storage.googleapis.com/tensorflow/keras-applications/vgg16/vgg16_weights_tf_dim_ordering_tf_kernels_notop.h5\n",
      "58892288/58889256 [==============================] - 1s 0us/step\n"
     ]
    }
   ],
   "source": [
    "vgg_model = VGG16(input_shape=(128,128,3),\n",
    "               weights='imagenet',\n",
    "               include_top=False)\n",
    "\n",
    "\n",
    "model = Sequential([\n",
    "    BatchNormalization(input_shape=(128,128,3)),\n",
    "    vgg_model,\n",
    "    Flatten(),\n",
    "    Dropout(0.5),\n",
    "    Dense(17, activation='sigmoid')\n",
    "])"
   ]
  },
  {
   "cell_type": "code",
   "execution_count": 10,
   "metadata": {
    "execution": {
     "iopub.execute_input": "2020-09-20T16:56:47.475183Z",
     "iopub.status.busy": "2020-09-20T16:56:47.474238Z",
     "iopub.status.idle": "2020-09-20T16:56:47.476353Z",
     "shell.execute_reply": "2020-09-20T16:56:47.476887Z"
    },
    "id": "5YOV1BIy2Vzr",
    "papermill": {
     "duration": 0.03837,
     "end_time": "2020-09-20T16:56:47.477024",
     "exception": false,
     "start_time": "2020-09-20T16:56:47.438654",
     "status": "completed"
    },
    "tags": []
   },
   "outputs": [],
   "source": [
    "early_stop = EarlyStopping(patience=4,monitor='val_loss')\n",
    "modelcheckpoints = ModelCheckpoint(filepath='trainmodel.hdf5',save_best_only=True,save_weights_only=True)"
   ]
  },
  {
   "cell_type": "code",
   "execution_count": 11,
   "metadata": {
    "execution": {
     "iopub.execute_input": "2020-09-20T16:56:47.550055Z",
     "iopub.status.busy": "2020-09-20T16:56:47.549117Z",
     "iopub.status.idle": "2020-09-20T16:56:47.557787Z",
     "shell.execute_reply": "2020-09-20T16:56:47.557250Z"
    },
    "id": "e2tEJBBrgiAX",
    "papermill": {
     "duration": 0.050199,
     "end_time": "2020-09-20T16:56:47.557887",
     "exception": false,
     "start_time": "2020-09-20T16:56:47.507688",
     "status": "completed"
    },
    "tags": []
   },
   "outputs": [],
   "source": [
    "model.compile(loss='binary_crossentropy',optimizer=SGD(learning_rate=0.01),metrics=['accuracy'])"
   ]
  },
  {
   "cell_type": "code",
   "execution_count": 12,
   "metadata": {
    "execution": {
     "iopub.execute_input": "2020-09-20T16:56:47.629431Z",
     "iopub.status.busy": "2020-09-20T16:56:47.626254Z",
     "iopub.status.idle": "2020-09-20T16:56:47.632105Z",
     "shell.execute_reply": "2020-09-20T16:56:47.630020Z"
    },
    "id": "UWUTgRt4w4eS",
    "outputId": "64ca21a6-5674-40b4-e66e-17d955368df3",
    "papermill": {
     "duration": 0.044857,
     "end_time": "2020-09-20T16:56:47.632232",
     "exception": false,
     "start_time": "2020-09-20T16:56:47.587375",
     "status": "completed"
    },
    "tags": []
   },
   "outputs": [
    {
     "name": "stdout",
     "output_type": "stream",
     "text": [
      "Model: \"sequential\"\n",
      "_________________________________________________________________\n",
      "Layer (type)                 Output Shape              Param #   \n",
      "=================================================================\n",
      "batch_normalization (BatchNo (None, 128, 128, 3)       12        \n",
      "_________________________________________________________________\n",
      "vgg16 (Functional)           (None, 4, 4, 512)         14714688  \n",
      "_________________________________________________________________\n",
      "flatten (Flatten)            (None, 8192)              0         \n",
      "_________________________________________________________________\n",
      "dropout (Dropout)            (None, 8192)              0         \n",
      "_________________________________________________________________\n",
      "dense (Dense)                (None, 17)                139281    \n",
      "=================================================================\n",
      "Total params: 14,853,981\n",
      "Trainable params: 14,853,975\n",
      "Non-trainable params: 6\n",
      "_________________________________________________________________\n"
     ]
    }
   ],
   "source": [
    "model.summary()"
   ]
  },
  {
   "cell_type": "code",
   "execution_count": 13,
   "metadata": {
    "execution": {
     "iopub.execute_input": "2020-09-20T16:56:47.702042Z",
     "iopub.status.busy": "2020-09-20T16:56:47.700146Z",
     "iopub.status.idle": "2020-09-20T16:56:47.702970Z",
     "shell.execute_reply": "2020-09-20T16:56:47.703570Z"
    },
    "id": "WO9-AEfhguun",
    "papermill": {
     "duration": 0.039685,
     "end_time": "2020-09-20T16:56:47.703723",
     "exception": false,
     "start_time": "2020-09-20T16:56:47.664038",
     "status": "completed"
    },
    "tags": []
   },
   "outputs": [],
   "source": [
    "STEP_SIZE_TRAIN=train_generator.n//train_generator.batch_size\n",
    "STEP_SIZE_VALID=validation_generator.n//validation_generator.batch_size\n",
    "STEP_SIZE_TEST=test_generator.n//test_generator.batch_size\n",
    "STEP_SIZE_ADD_TEST = add_test_generator.n//add_test_generator.batch_size"
   ]
  },
  {
   "cell_type": "code",
   "execution_count": 14,
   "metadata": {
    "execution": {
     "iopub.execute_input": "2020-09-20T16:56:47.772729Z",
     "iopub.status.busy": "2020-09-20T16:56:47.772076Z",
     "iopub.status.idle": "2020-09-20T17:44:12.038662Z",
     "shell.execute_reply": "2020-09-20T17:44:12.037812Z"
    },
    "id": "YhBuUu34MjNQ",
    "outputId": "0133148a-143e-4f9e-a2c2-4fde3d567f71",
    "papermill": {
     "duration": 2844.302714,
     "end_time": "2020-09-20T17:44:12.038825",
     "exception": false,
     "start_time": "2020-09-20T16:56:47.736111",
     "status": "completed"
    },
    "tags": []
   },
   "outputs": [
    {
     "name": "stdout",
     "output_type": "stream",
     "text": [
      "Epoch 1/20\n",
      "474/474 [==============================] - 187s 394ms/step - loss: 0.1820 - accuracy: 0.0835 - val_loss: 0.1421 - val_accuracy: 0.0815\n",
      "Epoch 2/20\n",
      "474/474 [==============================] - 130s 275ms/step - loss: 0.1368 - accuracy: 0.1226 - val_loss: 0.1200 - val_accuracy: 0.1036\n",
      "Epoch 3/20\n",
      "474/474 [==============================] - 131s 276ms/step - loss: 0.1246 - accuracy: 0.1348 - val_loss: 0.1137 - val_accuracy: 0.1046\n",
      "Epoch 4/20\n",
      "474/474 [==============================] - 131s 276ms/step - loss: 0.1185 - accuracy: 0.1406 - val_loss: 0.1108 - val_accuracy: 0.1245\n",
      "Epoch 5/20\n",
      "474/474 [==============================] - 202s 427ms/step - loss: 0.1133 - accuracy: 0.1427 - val_loss: 0.1052 - val_accuracy: 0.1164\n",
      "Epoch 6/20\n",
      "474/474 [==============================] - 131s 276ms/step - loss: 0.1101 - accuracy: 0.1424 - val_loss: 0.1055 - val_accuracy: 0.1002\n",
      "Epoch 7/20\n",
      "474/474 [==============================] - 133s 280ms/step - loss: 0.1071 - accuracy: 0.1451 - val_loss: 0.1031 - val_accuracy: 0.1384\n",
      "Epoch 8/20\n",
      "474/474 [==============================] - 132s 277ms/step - loss: 0.1053 - accuracy: 0.1397 - val_loss: 0.1020 - val_accuracy: 0.1525\n",
      "Epoch 9/20\n",
      "474/474 [==============================] - 135s 284ms/step - loss: 0.1034 - accuracy: 0.1394 - val_loss: 0.0984 - val_accuracy: 0.1161\n",
      "Epoch 10/20\n",
      "474/474 [==============================] - 134s 283ms/step - loss: 0.1018 - accuracy: 0.1405 - val_loss: 0.0980 - val_accuracy: 0.1443\n",
      "Epoch 11/20\n",
      "474/474 [==============================] - 134s 283ms/step - loss: 0.0998 - accuracy: 0.1435 - val_loss: 0.0969 - val_accuracy: 0.1295\n",
      "Epoch 12/20\n",
      "474/474 [==============================] - 134s 284ms/step - loss: 0.0988 - accuracy: 0.1426 - val_loss: 0.0952 - val_accuracy: 0.1235\n",
      "Epoch 13/20\n",
      "474/474 [==============================] - 179s 379ms/step - loss: 0.0980 - accuracy: 0.1382 - val_loss: 0.0949 - val_accuracy: 0.1352\n",
      "Epoch 14/20\n",
      "474/474 [==============================] - 134s 282ms/step - loss: 0.0962 - accuracy: 0.1425 - val_loss: 0.0945 - val_accuracy: 0.1268\n",
      "Epoch 15/20\n",
      "474/474 [==============================] - 133s 281ms/step - loss: 0.0951 - accuracy: 0.1409 - val_loss: 0.0949 - val_accuracy: 0.1287\n",
      "Epoch 16/20\n",
      "474/474 [==============================] - 136s 286ms/step - loss: 0.0943 - accuracy: 0.1392 - val_loss: 0.0957 - val_accuracy: 0.1685\n",
      "Epoch 17/20\n",
      "474/474 [==============================] - 134s 282ms/step - loss: 0.0939 - accuracy: 0.1396 - val_loss: 0.0937 - val_accuracy: 0.1284\n",
      "Epoch 18/20\n",
      "474/474 [==============================] - 132s 279ms/step - loss: 0.0929 - accuracy: 0.1394 - val_loss: 0.0923 - val_accuracy: 0.1468\n",
      "Epoch 19/20\n",
      "474/474 [==============================] - 132s 278ms/step - loss: 0.0920 - accuracy: 0.1359 - val_loss: 0.0927 - val_accuracy: 0.1392\n",
      "Epoch 20/20\n",
      "474/474 [==============================] - 132s 278ms/step - loss: 0.0913 - accuracy: 0.1357 - val_loss: 0.0932 - val_accuracy: 0.1424\n"
     ]
    },
    {
     "data": {
      "text/plain": [
       "<tensorflow.python.keras.callbacks.History at 0x7fe9dc0f4490>"
      ]
     },
     "execution_count": 14,
     "metadata": {},
     "output_type": "execute_result"
    }
   ],
   "source": [
    "model.fit(train_generator,\n",
    "          steps_per_epoch=STEP_SIZE_TRAIN,\n",
    "          validation_data=validation_generator,\n",
    "          validation_steps=STEP_SIZE_VALID,\n",
    "          epochs=20,\n",
    "           callbacks=[early_stop,modelcheckpoints]\n",
    ")"
   ]
  },
  {
   "cell_type": "code",
   "execution_count": 15,
   "metadata": {
    "execution": {
     "iopub.execute_input": "2020-09-20T17:44:20.105631Z",
     "iopub.status.busy": "2020-09-20T17:44:20.100599Z",
     "iopub.status.idle": "2020-09-20T17:44:20.213546Z",
     "shell.execute_reply": "2020-09-20T17:44:20.212844Z"
    },
    "papermill": {
     "duration": 4.273857,
     "end_time": "2020-09-20T17:44:20.213673",
     "exception": false,
     "start_time": "2020-09-20T17:44:15.939816",
     "status": "completed"
    },
    "tags": []
   },
   "outputs": [],
   "source": [
    "model.save('trialmodel.h5')"
   ]
  },
  {
   "cell_type": "code",
   "execution_count": 16,
   "metadata": {
    "execution": {
     "iopub.execute_input": "2020-09-20T17:44:27.307979Z",
     "iopub.status.busy": "2020-09-20T17:44:27.307133Z",
     "iopub.status.idle": "2020-09-20T17:44:27.553655Z",
     "shell.execute_reply": "2020-09-20T17:44:27.554223Z"
    },
    "id": "mp61yj4rgwap",
    "outputId": "8a4b8ae5-2c51-459f-c0b0-21330da9fa61",
    "papermill": {
     "duration": 3.826789,
     "end_time": "2020-09-20T17:44:27.554381",
     "exception": false,
     "start_time": "2020-09-20T17:44:23.727592",
     "status": "completed"
    },
    "tags": []
   },
   "outputs": [
    {
     "data": {
      "text/plain": [
       "<matplotlib.axes._subplots.AxesSubplot at 0x7fe98824e750>"
      ]
     },
     "execution_count": 16,
     "metadata": {},
     "output_type": "execute_result"
    },
    {
     "data": {
      "image/png": "[encoded data removed]",
      "text/plain": [
       "<Figure size 432x288 with 1 Axes>"
      ]
     },
     "metadata": {
      "needs_background": "light"
     },
     "output_type": "display_data"
    }
   ],
   "source": [
    "metrics = pd.DataFrame(model.history.history)\n",
    "metrics[['loss','val_loss']].plot()"
   ]
  },
  {
   "cell_type": "code",
   "execution_count": 17,
   "metadata": {
    "execution": {
     "iopub.execute_input": "2020-09-20T17:44:34.753021Z",
     "iopub.status.busy": "2020-09-20T17:44:34.752331Z",
     "iopub.status.idle": "2020-09-20T17:47:24.665340Z",
     "shell.execute_reply": "2020-09-20T17:47:24.664706Z"
    },
    "id": "ISdahlU5a5_E",
    "papermill": {
     "duration": 173.394937,
     "end_time": "2020-09-20T17:47:24.665477",
     "exception": false,
     "start_time": "2020-09-20T17:44:31.270540",
     "status": "completed"
    },
    "tags": []
   },
   "outputs": [],
   "source": [
    "test_generator.reset()\n",
    "result = model.predict_generator(test_generator,\n",
    "                                steps=STEP_SIZE_TEST)"
   ]
  },
  {
   "cell_type": "code",
   "execution_count": 18,
   "metadata": {
    "execution": {
     "iopub.execute_input": "2020-09-20T17:47:32.120694Z",
     "iopub.status.busy": "2020-09-20T17:47:32.119489Z",
     "iopub.status.idle": "2020-09-20T17:47:32.124989Z",
     "shell.execute_reply": "2020-09-20T17:47:32.124384Z"
    },
    "id": "dqKmWq_pbVc7",
    "outputId": "2a81575d-0775-46db-e01e-88cce73081b9",
    "papermill": {
     "duration": 3.537167,
     "end_time": "2020-09-20T17:47:32.125108",
     "exception": false,
     "start_time": "2020-09-20T17:47:28.587941",
     "status": "completed"
    },
    "tags": []
   },
   "outputs": [
    {
     "data": {
      "text/plain": [
       "array([2.06008740e-03, 2.12850602e-04, 2.26375239e-04, 1.98490135e-02,\n",
       "       6.68159337e-04, 9.98065770e-01, 1.25519786e-04, 1.20681856e-04,\n",
       "       1.27616152e-03, 4.53011453e-04, 9.31585324e-04, 8.51093442e-04,\n",
       "       9.99913335e-01, 2.31854082e-03, 3.27043235e-03, 3.58212710e-04,\n",
       "       2.24831467e-03], dtype=float32)"
      ]
     },
     "execution_count": 18,
     "metadata": {},
     "output_type": "execute_result"
    }
   ],
   "source": [
    "result[0]"
   ]
  },
  {
   "cell_type": "code",
   "execution_count": 19,
   "metadata": {
    "execution": {
     "iopub.execute_input": "2020-09-20T17:47:39.516877Z",
     "iopub.status.busy": "2020-09-20T17:47:39.515976Z",
     "iopub.status.idle": "2020-09-20T17:47:39.522597Z",
     "shell.execute_reply": "2020-09-20T17:47:39.522062Z"
    },
    "id": "S26nSLG_dEnJ",
    "papermill": {
     "duration": 3.791407,
     "end_time": "2020-09-20T17:47:39.522709",
     "exception": false,
     "start_time": "2020-09-20T17:47:35.731302",
     "status": "completed"
    },
    "tags": []
   },
   "outputs": [
    {
     "data": {
      "text/plain": [
       "array([0, 0, 0, 0, 0, 1, 0, 0, 0, 0, 0, 0, 1, 0, 0, 0, 0])"
      ]
     },
     "execution_count": 19,
     "metadata": {},
     "output_type": "execute_result"
    }
   ],
   "source": [
    "values = result>0.2\n",
    "values = values.astype(int)\n",
    "values[0]"
   ]
  },
  {
   "cell_type": "code",
   "execution_count": 20,
   "metadata": {
    "execution": {
     "iopub.execute_input": "2020-09-20T17:47:46.524241Z",
     "iopub.status.busy": "2020-09-20T17:47:46.522574Z",
     "iopub.status.idle": "2020-09-20T17:47:46.524908Z",
     "shell.execute_reply": "2020-09-20T17:47:46.525426Z"
    },
    "papermill": {
     "duration": 3.473936,
     "end_time": "2020-09-20T17:47:46.525566",
     "exception": false,
     "start_time": "2020-09-20T17:47:43.051630",
     "status": "completed"
    },
    "tags": []
   },
   "outputs": [],
   "source": [
    "inv_map = {j:i for i,j in train_generator.class_indices.items()}"
   ]
  },
  {
   "cell_type": "code",
   "execution_count": 21,
   "metadata": {
    "execution": {
     "iopub.execute_input": "2020-09-20T17:47:53.768444Z",
     "iopub.status.busy": "2020-09-20T17:47:53.753910Z",
     "iopub.status.idle": "2020-09-20T17:47:54.587757Z",
     "shell.execute_reply": "2020-09-20T17:47:54.587074Z"
    },
    "id": "MHhnH8zNhgYp",
    "papermill": {
     "duration": 4.368934,
     "end_time": "2020-09-20T17:47:54.587885",
     "exception": false,
     "start_time": "2020-09-20T17:47:50.218951",
     "status": "completed"
    },
    "tags": []
   },
   "outputs": [],
   "source": [
    "tags = []\n",
    "for a in range(len(values)):\n",
    "  column = []\n",
    "  for i in range(len(values[a])):\n",
    "    if values[a][i] == 1:\n",
    "      column.append(inv_map[i])\n",
    "  tags.append(' '.join(column))"
   ]
  },
  {
   "cell_type": "code",
   "execution_count": 22,
   "metadata": {
    "execution": {
     "iopub.execute_input": "2020-09-20T17:48:02.096096Z",
     "iopub.status.busy": "2020-09-20T17:48:02.090679Z",
     "iopub.status.idle": "2020-09-20T17:48:02.098866Z",
     "shell.execute_reply": "2020-09-20T17:48:02.098390Z"
    },
    "id": "HcbV_hHpjW0G",
    "papermill": {
     "duration": 3.987997,
     "end_time": "2020-09-20T17:48:02.098970",
     "exception": false,
     "start_time": "2020-09-20T17:47:58.110973",
     "status": "completed"
    },
    "tags": []
   },
   "outputs": [],
   "source": [
    "sample_sub[:40669]['tags'] = tags"
   ]
  },
  {
   "cell_type": "code",
   "execution_count": 23,
   "metadata": {
    "execution": {
     "iopub.execute_input": "2020-09-20T17:48:09.342573Z",
     "iopub.status.busy": "2020-09-20T17:48:09.341769Z",
     "iopub.status.idle": "2020-09-20T17:49:34.901611Z",
     "shell.execute_reply": "2020-09-20T17:49:34.900443Z"
    },
    "papermill": {
     "duration": 89.313499,
     "end_time": "2020-09-20T17:49:34.901751",
     "exception": false,
     "start_time": "2020-09-20T17:48:05.588252",
     "status": "completed"
    },
    "tags": []
   },
   "outputs": [],
   "source": [
    "add_test_generator.reset()\n",
    "add_result = model.predict_generator(add_test_generator,\n",
    "                                steps=STEP_SIZE_ADD_TEST)"
   ]
  },
  {
   "cell_type": "code",
   "execution_count": 24,
   "metadata": {
    "execution": {
     "iopub.execute_input": "2020-09-20T17:49:41.988614Z",
     "iopub.status.busy": "2020-09-20T17:49:41.987161Z",
     "iopub.status.idle": "2020-09-20T17:49:41.992989Z",
     "shell.execute_reply": "2020-09-20T17:49:41.992486Z"
    },
    "papermill": {
     "duration": 3.423674,
     "end_time": "2020-09-20T17:49:41.993115",
     "exception": false,
     "start_time": "2020-09-20T17:49:38.569441",
     "status": "completed"
    },
    "tags": []
   },
   "outputs": [
    {
     "data": {
      "text/plain": [
       "array([0, 0, 0, 0, 0, 1, 0, 0, 0, 0, 0, 0, 1, 0, 0, 0, 0])"
      ]
     },
     "execution_count": 24,
     "metadata": {},
     "output_type": "execute_result"
    }
   ],
   "source": [
    "values = add_result>0.2\n",
    "values = values.astype(int)\n",
    "values[0]"
   ]
  },
  {
   "cell_type": "code",
   "execution_count": 25,
   "metadata": {
    "execution": {
     "iopub.execute_input": "2020-09-20T17:49:49.247053Z",
     "iopub.status.busy": "2020-09-20T17:49:49.231762Z",
     "iopub.status.idle": "2020-09-20T17:49:49.646544Z",
     "shell.execute_reply": "2020-09-20T17:49:49.645837Z"
    },
    "papermill": {
     "duration": 4.145191,
     "end_time": "2020-09-20T17:49:49.646727",
     "exception": false,
     "start_time": "2020-09-20T17:49:45.501536",
     "status": "completed"
    },
    "tags": []
   },
   "outputs": [],
   "source": [
    "tags = []\n",
    "for a in range(len(values)):\n",
    "  column = []\n",
    "  for i in range(len(values[a])):\n",
    "    if values[a][i] == 1:\n",
    "      column.append(inv_map[i])\n",
    "  tags.append(' '.join(column))"
   ]
  },
  {
   "cell_type": "code",
   "execution_count": 26,
   "metadata": {
    "execution": {
     "iopub.execute_input": "2020-09-20T17:49:56.655783Z",
     "iopub.status.busy": "2020-09-20T17:49:56.655013Z",
     "iopub.status.idle": "2020-09-20T17:49:56.661874Z",
     "shell.execute_reply": "2020-09-20T17:49:56.661115Z"
    },
    "papermill": {
     "duration": 3.500089,
     "end_time": "2020-09-20T17:49:56.662005",
     "exception": false,
     "start_time": "2020-09-20T17:49:53.161916",
     "status": "completed"
    },
    "tags": []
   },
   "outputs": [
    {
     "data": {
      "text/plain": [
       "20522"
      ]
     },
     "execution_count": 26,
     "metadata": {},
     "output_type": "execute_result"
    }
   ],
   "source": [
    "len(tags)"
   ]
  },
  {
   "cell_type": "code",
   "execution_count": 27,
   "metadata": {
    "execution": {
     "iopub.execute_input": "2020-09-20T17:50:03.882325Z",
     "iopub.status.busy": "2020-09-20T17:50:03.880782Z",
     "iopub.status.idle": "2020-09-20T17:50:03.883521Z",
     "shell.execute_reply": "2020-09-20T17:50:03.883004Z"
    },
    "papermill": {
     "duration": 3.553251,
     "end_time": "2020-09-20T17:50:03.883629",
     "exception": false,
     "start_time": "2020-09-20T17:50:00.330378",
     "status": "completed"
    },
    "tags": []
   },
   "outputs": [],
   "source": [
    "sample_sub[40669:]['tags'] = tags"
   ]
  },
  {
   "cell_type": "code",
   "execution_count": 28,
   "metadata": {
    "execution": {
     "iopub.execute_input": "2020-09-20T17:50:11.869681Z",
     "iopub.status.busy": "2020-09-20T17:50:11.864491Z",
     "iopub.status.idle": "2020-09-20T17:50:11.892357Z",
     "shell.execute_reply": "2020-09-20T17:50:11.892961Z"
    },
    "papermill": {
     "duration": 4.324122,
     "end_time": "2020-09-20T17:50:11.893132",
     "exception": false,
     "start_time": "2020-09-20T17:50:07.569010",
     "status": "completed"
    },
    "tags": []
   },
   "outputs": [],
   "source": [
    "sample_sub['image_name'] = sample_sub['image_name'].apply(lambda x:x[:-4])"
   ]
  },
  {
   "cell_type": "code",
   "execution_count": 29,
   "metadata": {
    "execution": {
     "iopub.execute_input": "2020-09-20T17:50:19.345523Z",
     "iopub.status.busy": "2020-09-20T17:50:19.344610Z",
     "iopub.status.idle": "2020-09-20T17:50:19.735188Z",
     "shell.execute_reply": "2020-09-20T17:50:19.734480Z"
    },
    "id": "2vI2JSHzkG1h",
    "papermill": {
     "duration": 4.107482,
     "end_time": "2020-09-20T17:50:19.735341",
     "exception": false,
     "start_time": "2020-09-20T17:50:15.627859",
     "status": "completed"
    },
    "tags": []
   },
   "outputs": [],
   "source": [
    "sample_sub.to_csv('sixthsubmission.csv',index=False)"
   ]
  },
  {
   "cell_type": "code",
   "execution_count": null,
   "metadata": {
    "papermill": {
     "duration": 3.489152,
     "end_time": "2020-09-20T17:50:27.021077",
     "exception": false,
     "start_time": "2020-09-20T17:50:23.531925",
     "status": "completed"
    },
    "tags": []
   },
   "outputs": [],
   "source": []
  }
 ],
 "metadata": {
  "kernelspec": {
   "display_name": "Python 3",
   "language": "python",
   "name": "python3"
  },
  "language_info": {
   "codemirror_mode": {
    "name": "ipython",
    "version": 3
   },
   "file_extension": ".py",
   "mimetype": "text/x-python",
   "name": "python",
   "nbconvert_exporter": "python",
   "pygments_lexer": "ipython3",
   "version": "3.8.3"
  },
  "papermill": {
   "duration": 3275.580866,
   "end_time": "2020-09-20T17:50:31.861913",
   "environment_variables": {},
   "exception": null,
   "input_path": "__notebook__.ipynb",
   "output_path": "__notebook__.ipynb",
   "parameters": {},
   "start_time": "2020-09-20T16:55:56.281047",
   "version": "2.1.0"
  }
 },
 "nbformat": 4,
 "nbformat_minor": 4
}
